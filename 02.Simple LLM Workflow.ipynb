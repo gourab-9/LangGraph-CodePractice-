{
 "cells": [
  {
   "cell_type": "code",
   "execution_count": 7,
   "id": "f1160d42",
   "metadata": {},
   "outputs": [],
   "source": [
    "from langgraph.graph import StateGraph, START, END\n",
    "from langchain_openai import ChatOpenAI\n",
    "from typing import TypedDict\n",
    "from dotenv import load_dotenv\n",
    "\n",
    "load_dotenv(override=True)\n",
    "model = ChatOpenAI()\n"
   ]
  },
  {
   "cell_type": "code",
   "execution_count": 3,
   "id": "9a4736c3",
   "metadata": {},
   "outputs": [],
   "source": [
    "# Define State\n",
    "class LLMState(TypedDict):\n",
    "    question: str\n",
    "    answer: str\n"
   ]
  },
  {
   "cell_type": "code",
   "execution_count": 4,
   "id": "4897406a",
   "metadata": {},
   "outputs": [],
   "source": [
    "# Build Graph\n",
    "graph = StateGraph(LLMState)\n"
   ]
  },
  {
   "cell_type": "code",
   "execution_count": 5,
   "id": "49e4ddb0",
   "metadata": {},
   "outputs": [
    {
     "data": {
      "text/plain": [
       "<langgraph.graph.state.StateGraph at 0x1d2ef9cc440>"
      ]
     },
     "execution_count": 5,
     "metadata": {},
     "output_type": "execute_result"
    }
   ],
   "source": [
    "# Node: LLM QA\n",
    "def llm_qa(state: LLMState) -> LLMState:\n",
    "    question = state[\"question\"]\n",
    "    prompt = f\"Answer the following question:\\n{question}\"\n",
    "    response = model.invoke(prompt).content\n",
    "    state[\"answer\"] = response\n",
    "    return state\n",
    "\n",
    "graph.add_node(\"llm_qa\", llm_qa)\n"
   ]
  },
  {
   "cell_type": "code",
   "execution_count": 8,
   "id": "d493e276",
   "metadata": {},
   "outputs": [
    {
     "name": "stderr",
     "output_type": "stream",
     "text": [
      "Adding an edge to a graph that has already been compiled. This will not be reflected in the compiled graph.\n",
      "Adding an edge to a graph that has already been compiled. This will not be reflected in the compiled graph.\n"
     ]
    },
    {
     "name": "stdout",
     "output_type": "stream",
     "text": [
      "{'question': 'How far is Moon from the Earth?', 'answer': 'The average distance from the Moon to Earth is about 384,400 kilometers (238,855 miles).'}\n"
     ]
    }
   ],
   "source": [
    "# Add Edges\n",
    "\n",
    "graph.add_edge(START, \"llm_qa\")\n",
    "graph.add_edge(\"llm_qa\", END)\n",
    "\n",
    "\n",
    "# Compile & Execute\n",
    "workflow = graph.compile()\n",
    "\n",
    "initial_state = {\"question\": \"How far is Moon from the Earth?\"}\n",
    "final_state = workflow.invoke(initial_state)\n",
    "print(final_state)\n",
    "\n",
    "\n"
   ]
  },
  {
   "cell_type": "code",
   "execution_count": 9,
   "id": "e4264a85",
   "metadata": {},
   "outputs": [
    {
     "name": "stdout",
     "output_type": "stream",
     "text": [
      "The average distance from the Moon to Earth is about 384,400 kilometers (238,855 miles).\n"
     ]
    }
   ],
   "source": [
    "print(final_state[\"answer\"])\n"
   ]
  },
  {
   "cell_type": "code",
   "execution_count": 10,
   "id": "9f15b8d6",
   "metadata": {},
   "outputs": [
    {
     "data": {
      "text/plain": [
       "'The average distance from the Earth to the Moon is about 238,855 miles (384,400 kilometers).'"
      ]
     },
     "execution_count": 10,
     "metadata": {},
     "output_type": "execute_result"
    }
   ],
   "source": [
    "model.invoke('How far is moon from the earth?').content\n"
   ]
  },
  {
   "cell_type": "code",
   "execution_count": null,
   "id": "37eb0b68",
   "metadata": {},
   "outputs": [],
   "source": []
  }
 ],
 "metadata": {
  "kernelspec": {
   "display_name": "virtual_env",
   "language": "python",
   "name": "python3"
  },
  "language_info": {
   "codemirror_mode": {
    "name": "ipython",
    "version": 3
   },
   "file_extension": ".py",
   "mimetype": "text/x-python",
   "name": "python",
   "nbconvert_exporter": "python",
   "pygments_lexer": "ipython3",
   "version": "3.13.5"
  }
 },
 "nbformat": 4,
 "nbformat_minor": 5
}
