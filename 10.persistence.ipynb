{
 "cells": [
  {
   "cell_type": "code",
   "execution_count": 1,
   "id": "ae096024",
   "metadata": {},
   "outputs": [],
   "source": [
    "from langgraph.graph import StateGraph, START, END\n",
    "from typing import TypedDict\n",
    "from langchain_openai import ChatOpenAI\n",
    "from dotenv import load_dotenv\n",
    "from langgraph.checkpoint.memory import InMemorySaver"
   ]
  },
  {
   "cell_type": "code",
   "execution_count": 2,
   "id": "7f8e8a6f",
   "metadata": {},
   "outputs": [],
   "source": [
    "load_dotenv()\n",
    "\n",
    "llm = ChatOpenAI()"
   ]
  },
  {
   "cell_type": "code",
   "execution_count": 3,
   "id": "c1fd23b1",
   "metadata": {},
   "outputs": [],
   "source": [
    "class JokeState(TypedDict):\n",
    "\n",
    "    topic: str\n",
    "    joke: str\n",
    "    explanation: str"
   ]
  },
  {
   "cell_type": "code",
   "execution_count": 4,
   "id": "07cee05b",
   "metadata": {},
   "outputs": [],
   "source": [
    "def generate_joke(state: JokeState):\n",
    "\n",
    "    prompt = f'generate a joke on the topic {state[\"topic\"]}'\n",
    "    response = llm.invoke(prompt).content\n",
    "\n",
    "    return {'joke': response}"
   ]
  },
  {
   "cell_type": "code",
   "execution_count": 5,
   "id": "3d50445b",
   "metadata": {},
   "outputs": [],
   "source": [
    "def generate_explanation(state: JokeState):\n",
    "\n",
    "    prompt = f'write an explanation for the joke - {state[\"joke\"]}'\n",
    "    response = llm.invoke(prompt).content\n",
    "\n",
    "    return {'explanation': response}"
   ]
  },
  {
   "cell_type": "code",
   "execution_count": 6,
   "id": "653b95d2",
   "metadata": {},
   "outputs": [],
   "source": [
    "graph = StateGraph(JokeState)\n",
    "\n",
    "graph.add_node('generate_joke', generate_joke)\n",
    "graph.add_node('generate_explanation', generate_explanation)\n",
    "\n",
    "graph.add_edge(START, 'generate_joke')\n",
    "graph.add_edge('generate_joke', 'generate_explanation')\n",
    "graph.add_edge('generate_explanation', END)\n",
    "\n",
    "checkpointer = InMemorySaver()\n",
    "\n",
    "workflow = graph.compile(checkpointer=checkpointer)"
   ]
  },
  {
   "cell_type": "code",
   "execution_count": 7,
   "id": "48721674",
   "metadata": {},
   "outputs": [
    {
     "data": {
      "text/plain": [
       "{'topic': 'pizza',\n",
       " 'joke': 'Why did the pizza go to the doctor? Because it was feeling a little crusty!',\n",
       " 'explanation': 'This joke is a play on words, using the word \"crusty\" in a clever and humorous way. In the context of the joke, \"crusty\" is typically used to describe something that is dry or rough on the surface. However, in this case, the joke suggests that the pizza went to the doctor because it was feeling \"crusty,\" implying that the pizza\\'s crust was not feeling well. It turns a common phrase into a silly and unexpected punchline, creating a light-hearted and amusing moment for the listener.'}"
      ]
     },
     "execution_count": 7,
     "metadata": {},
     "output_type": "execute_result"
    }
   ],
   "source": [
    "config1 = {\"configurable\": {\"thread_id\": \"1\"}}\n",
    "workflow.invoke({'topic':'pizza'}, config=config1)"
   ]
  },
  {
   "cell_type": "code",
   "execution_count": 8,
   "id": "4b9d21d2",
   "metadata": {},
   "outputs": [
    {
     "data": {
      "text/plain": [
       "StateSnapshot(values={'topic': 'pizza', 'joke': 'Why did the pizza go to the doctor? Because it was feeling a little crusty!', 'explanation': 'This joke is a play on words, using the word \"crusty\" in a clever and humorous way. In the context of the joke, \"crusty\" is typically used to describe something that is dry or rough on the surface. However, in this case, the joke suggests that the pizza went to the doctor because it was feeling \"crusty,\" implying that the pizza\\'s crust was not feeling well. It turns a common phrase into a silly and unexpected punchline, creating a light-hearted and amusing moment for the listener.'}, next=(), config={'configurable': {'thread_id': '1', 'checkpoint_ns': '', 'checkpoint_id': '1f06e968-4d98-682f-8002-b44e00a7f4e9'}}, metadata={'source': 'loop', 'step': 2, 'parents': {}}, created_at='2025-08-01T05:15:20.148353+00:00', parent_config={'configurable': {'thread_id': '1', 'checkpoint_ns': '', 'checkpoint_id': '1f06e968-3f09-6e8f-8001-74d87f5038e7'}}, tasks=(), interrupts=())"
      ]
     },
     "execution_count": 8,
     "metadata": {},
     "output_type": "execute_result"
    }
   ],
   "source": [
    "workflow.get_state(config1)\n"
   ]
  },
  {
   "cell_type": "code",
   "execution_count": 9,
   "id": "59c028c1",
   "metadata": {},
   "outputs": [
    {
     "data": {
      "text/plain": [
       "[StateSnapshot(values={'topic': 'pizza', 'joke': 'Why did the pizza go to the doctor? Because it was feeling a little crusty!', 'explanation': 'This joke is a play on words, using the word \"crusty\" in a clever and humorous way. In the context of the joke, \"crusty\" is typically used to describe something that is dry or rough on the surface. However, in this case, the joke suggests that the pizza went to the doctor because it was feeling \"crusty,\" implying that the pizza\\'s crust was not feeling well. It turns a common phrase into a silly and unexpected punchline, creating a light-hearted and amusing moment for the listener.'}, next=(), config={'configurable': {'thread_id': '1', 'checkpoint_ns': '', 'checkpoint_id': '1f06e968-4d98-682f-8002-b44e00a7f4e9'}}, metadata={'source': 'loop', 'step': 2, 'parents': {}}, created_at='2025-08-01T05:15:20.148353+00:00', parent_config={'configurable': {'thread_id': '1', 'checkpoint_ns': '', 'checkpoint_id': '1f06e968-3f09-6e8f-8001-74d87f5038e7'}}, tasks=(), interrupts=()),\n",
       " StateSnapshot(values={'topic': 'pizza', 'joke': 'Why did the pizza go to the doctor? Because it was feeling a little crusty!'}, next=('generate_explanation',), config={'configurable': {'thread_id': '1', 'checkpoint_ns': '', 'checkpoint_id': '1f06e968-3f09-6e8f-8001-74d87f5038e7'}}, metadata={'source': 'loop', 'step': 1, 'parents': {}}, created_at='2025-08-01T05:15:18.621933+00:00', parent_config={'configurable': {'thread_id': '1', 'checkpoint_ns': '', 'checkpoint_id': '1f06e968-2bac-6131-8000-d930d4f33311'}}, tasks=(PregelTask(id='5150a71e-5aa6-ade2-bfb6-37027de8102d', name='generate_explanation', path=('__pregel_pull', 'generate_explanation'), error=None, interrupts=(), state=None, result={'explanation': 'This joke is a play on words, using the word \"crusty\" in a clever and humorous way. In the context of the joke, \"crusty\" is typically used to describe something that is dry or rough on the surface. However, in this case, the joke suggests that the pizza went to the doctor because it was feeling \"crusty,\" implying that the pizza\\'s crust was not feeling well. It turns a common phrase into a silly and unexpected punchline, creating a light-hearted and amusing moment for the listener.'}),), interrupts=()),\n",
       " StateSnapshot(values={'topic': 'pizza'}, next=('generate_joke',), config={'configurable': {'thread_id': '1', 'checkpoint_ns': '', 'checkpoint_id': '1f06e968-2bac-6131-8000-d930d4f33311'}}, metadata={'source': 'loop', 'step': 0, 'parents': {}}, created_at='2025-08-01T05:15:16.591204+00:00', parent_config={'configurable': {'thread_id': '1', 'checkpoint_ns': '', 'checkpoint_id': '1f06e968-2ba4-6423-bfff-b937ef947e87'}}, tasks=(PregelTask(id='e1f6ea7a-de85-6805-00a5-a8d23014aab4', name='generate_joke', path=('__pregel_pull', 'generate_joke'), error=None, interrupts=(), state=None, result={'joke': 'Why did the pizza go to the doctor? Because it was feeling a little crusty!'}),), interrupts=()),\n",
       " StateSnapshot(values={}, next=('__start__',), config={'configurable': {'thread_id': '1', 'checkpoint_ns': '', 'checkpoint_id': '1f06e968-2ba4-6423-bfff-b937ef947e87'}}, metadata={'source': 'input', 'step': -1, 'parents': {}}, created_at='2025-08-01T05:15:16.588018+00:00', parent_config=None, tasks=(PregelTask(id='1d0e481f-937f-e0ec-c53b-434739017ee5', name='__start__', path=('__pregel_pull', '__start__'), error=None, interrupts=(), state=None, result={'topic': 'pizza'}),), interrupts=())]"
      ]
     },
     "execution_count": 9,
     "metadata": {},
     "output_type": "execute_result"
    }
   ],
   "source": [
    "list(workflow.get_state_history(config1))\n"
   ]
  },
  {
   "cell_type": "code",
   "execution_count": 10,
   "id": "d31a3e86",
   "metadata": {},
   "outputs": [
    {
     "data": {
      "text/plain": [
       "{'topic': 'pasta',\n",
       " 'joke': 'Why did the pasta chef break up with his girlfriend? \\n\\nBecause she was always saucy and never al dente!',\n",
       " 'explanation': 'This joke plays on the double meaning of the word \"saucy.\" In one sense, it can mean sassy or cheeky, which suggests that the girlfriend had a feisty personality. In another sense, it can refer to having lots of sauce, which in the context of pasta, means being overly rich or heavy. The punchline reveals that the girlfriend was too \"saucy\" in both senses - she had a bold personality and she overdid it with the sauce on her pasta, which would make it not cooked \"al dente\" (firm to the bite). This combination of wordplay and exaggerated scenario creates humor in the unexpected nature of the breakup reason.'}"
      ]
     },
     "execution_count": 10,
     "metadata": {},
     "output_type": "execute_result"
    }
   ],
   "source": [
    "config2 = {\"configurable\": {\"thread_id\": \"2\"}}\n",
    "workflow.invoke({'topic':'pasta'}, config=config2)"
   ]
  },
  {
   "cell_type": "code",
   "execution_count": 11,
   "id": "489d7760",
   "metadata": {},
   "outputs": [
    {
     "data": {
      "text/plain": [
       "StateSnapshot(values={'topic': 'pizza', 'joke': 'Why did the pizza go to the doctor? Because it was feeling a little crusty!', 'explanation': 'This joke is a play on words, using the word \"crusty\" in a clever and humorous way. In the context of the joke, \"crusty\" is typically used to describe something that is dry or rough on the surface. However, in this case, the joke suggests that the pizza went to the doctor because it was feeling \"crusty,\" implying that the pizza\\'s crust was not feeling well. It turns a common phrase into a silly and unexpected punchline, creating a light-hearted and amusing moment for the listener.'}, next=(), config={'configurable': {'thread_id': '1', 'checkpoint_ns': '', 'checkpoint_id': '1f06e968-4d98-682f-8002-b44e00a7f4e9'}}, metadata={'source': 'loop', 'step': 2, 'parents': {}}, created_at='2025-08-01T05:15:20.148353+00:00', parent_config={'configurable': {'thread_id': '1', 'checkpoint_ns': '', 'checkpoint_id': '1f06e968-3f09-6e8f-8001-74d87f5038e7'}}, tasks=(), interrupts=())"
      ]
     },
     "execution_count": 11,
     "metadata": {},
     "output_type": "execute_result"
    }
   ],
   "source": [
    "workflow.get_state(config1)"
   ]
  },
  {
   "cell_type": "code",
   "execution_count": 12,
   "id": "0ce1860c",
   "metadata": {},
   "outputs": [
    {
     "data": {
      "text/plain": [
       "[StateSnapshot(values={'topic': 'pizza', 'joke': 'Why did the pizza go to the doctor? Because it was feeling a little crusty!', 'explanation': 'This joke is a play on words, using the word \"crusty\" in a clever and humorous way. In the context of the joke, \"crusty\" is typically used to describe something that is dry or rough on the surface. However, in this case, the joke suggests that the pizza went to the doctor because it was feeling \"crusty,\" implying that the pizza\\'s crust was not feeling well. It turns a common phrase into a silly and unexpected punchline, creating a light-hearted and amusing moment for the listener.'}, next=(), config={'configurable': {'thread_id': '1', 'checkpoint_ns': '', 'checkpoint_id': '1f06e968-4d98-682f-8002-b44e00a7f4e9'}}, metadata={'source': 'loop', 'step': 2, 'parents': {}}, created_at='2025-08-01T05:15:20.148353+00:00', parent_config={'configurable': {'thread_id': '1', 'checkpoint_ns': '', 'checkpoint_id': '1f06e968-3f09-6e8f-8001-74d87f5038e7'}}, tasks=(), interrupts=()),\n",
       " StateSnapshot(values={'topic': 'pizza', 'joke': 'Why did the pizza go to the doctor? Because it was feeling a little crusty!'}, next=('generate_explanation',), config={'configurable': {'thread_id': '1', 'checkpoint_ns': '', 'checkpoint_id': '1f06e968-3f09-6e8f-8001-74d87f5038e7'}}, metadata={'source': 'loop', 'step': 1, 'parents': {}}, created_at='2025-08-01T05:15:18.621933+00:00', parent_config={'configurable': {'thread_id': '1', 'checkpoint_ns': '', 'checkpoint_id': '1f06e968-2bac-6131-8000-d930d4f33311'}}, tasks=(PregelTask(id='5150a71e-5aa6-ade2-bfb6-37027de8102d', name='generate_explanation', path=('__pregel_pull', 'generate_explanation'), error=None, interrupts=(), state=None, result={'explanation': 'This joke is a play on words, using the word \"crusty\" in a clever and humorous way. In the context of the joke, \"crusty\" is typically used to describe something that is dry or rough on the surface. However, in this case, the joke suggests that the pizza went to the doctor because it was feeling \"crusty,\" implying that the pizza\\'s crust was not feeling well. It turns a common phrase into a silly and unexpected punchline, creating a light-hearted and amusing moment for the listener.'}),), interrupts=()),\n",
       " StateSnapshot(values={'topic': 'pizza'}, next=('generate_joke',), config={'configurable': {'thread_id': '1', 'checkpoint_ns': '', 'checkpoint_id': '1f06e968-2bac-6131-8000-d930d4f33311'}}, metadata={'source': 'loop', 'step': 0, 'parents': {}}, created_at='2025-08-01T05:15:16.591204+00:00', parent_config={'configurable': {'thread_id': '1', 'checkpoint_ns': '', 'checkpoint_id': '1f06e968-2ba4-6423-bfff-b937ef947e87'}}, tasks=(PregelTask(id='e1f6ea7a-de85-6805-00a5-a8d23014aab4', name='generate_joke', path=('__pregel_pull', 'generate_joke'), error=None, interrupts=(), state=None, result={'joke': 'Why did the pizza go to the doctor? Because it was feeling a little crusty!'}),), interrupts=()),\n",
       " StateSnapshot(values={}, next=('__start__',), config={'configurable': {'thread_id': '1', 'checkpoint_ns': '', 'checkpoint_id': '1f06e968-2ba4-6423-bfff-b937ef947e87'}}, metadata={'source': 'input', 'step': -1, 'parents': {}}, created_at='2025-08-01T05:15:16.588018+00:00', parent_config=None, tasks=(PregelTask(id='1d0e481f-937f-e0ec-c53b-434739017ee5', name='__start__', path=('__pregel_pull', '__start__'), error=None, interrupts=(), state=None, result={'topic': 'pizza'}),), interrupts=())]"
      ]
     },
     "execution_count": 12,
     "metadata": {},
     "output_type": "execute_result"
    }
   ],
   "source": [
    "list(workflow.get_state_history(config1))"
   ]
  },
  {
   "cell_type": "markdown",
   "id": "00e0e7cb",
   "metadata": {},
   "source": [
    "# Time Travel"
   ]
  },
  {
   "cell_type": "code",
   "execution_count": 15,
   "id": "56ccbdc3",
   "metadata": {},
   "outputs": [
    {
     "data": {
      "text/plain": [
       "StateSnapshot(values={'topic': 'pizza', 'joke': 'Why did the pizza go to the doctor? Because it was feeling a little crusty!'}, next=('generate_explanation',), config={'configurable': {'thread_id': '1', 'checkpoint_id': '1f06e968-3f09-6e8f-8001-74d87f5038e7'}}, metadata={'source': 'loop', 'step': 1, 'parents': {}}, created_at='2025-08-01T05:15:18.621933+00:00', parent_config={'configurable': {'thread_id': '1', 'checkpoint_ns': '', 'checkpoint_id': '1f06e968-2bac-6131-8000-d930d4f33311'}}, tasks=(PregelTask(id='5150a71e-5aa6-ade2-bfb6-37027de8102d', name='generate_explanation', path=('__pregel_pull', 'generate_explanation'), error=None, interrupts=(), state=None, result={'explanation': 'This joke is a play on words, using the word \"crusty\" in a clever and humorous way. In the context of the joke, \"crusty\" is typically used to describe something that is dry or rough on the surface. However, in this case, the joke suggests that the pizza went to the doctor because it was feeling \"crusty,\" implying that the pizza\\'s crust was not feeling well. It turns a common phrase into a silly and unexpected punchline, creating a light-hearted and amusing moment for the listener.'}),), interrupts=())"
      ]
     },
     "execution_count": 15,
     "metadata": {},
     "output_type": "execute_result"
    }
   ],
   "source": [
    "workflow.get_state({\"configurable\": {\"thread_id\": \"1\", \"checkpoint_id\": \"1f06e968-3f09-6e8f-8001-74d87f5038e7\"}})\n"
   ]
  },
  {
   "cell_type": "code",
   "execution_count": 16,
   "id": "683a3123",
   "metadata": {},
   "outputs": [
    {
     "data": {
      "text/plain": [
       "{'topic': 'pizza',\n",
       " 'joke': 'Why did the pizza go to the doctor? Because it was feeling a little crusty!',\n",
       " 'explanation': 'This joke plays on the double meaning of the word \"crusty.\" In the context of pizza, \"crusty\" can refer to the texture of the pizza\\'s crust. However, in a healthcare context, \"crusty\" can also refer to someone feeling unwell or under the weather. In this joke, the pizza goes to the doctor because it is feeling unwell, but it also puns on the fact that pizzas have crusts.'}"
      ]
     },
     "execution_count": 16,
     "metadata": {},
     "output_type": "execute_result"
    }
   ],
   "source": [
    "workflow.invoke(None, {\"configurable\": {\"thread_id\": \"1\", \"checkpoint_id\": \"1f06e968-3f09-6e8f-8001-74d87f5038e7\"}})\n"
   ]
  },
  {
   "cell_type": "code",
   "execution_count": 17,
   "id": "f7119d46",
   "metadata": {},
   "outputs": [
    {
     "data": {
      "text/plain": [
       "[StateSnapshot(values={'topic': 'pizza', 'joke': 'Why did the pizza go to the doctor? Because it was feeling a little crusty!', 'explanation': 'This joke plays on the double meaning of the word \"crusty.\" In the context of pizza, \"crusty\" can refer to the texture of the pizza\\'s crust. However, in a healthcare context, \"crusty\" can also refer to someone feeling unwell or under the weather. In this joke, the pizza goes to the doctor because it is feeling unwell, but it also puns on the fact that pizzas have crusts.'}, next=(), config={'configurable': {'thread_id': '1', 'checkpoint_ns': '', 'checkpoint_id': '1f06e96f-bbd3-66f3-8002-d172194355c8'}}, metadata={'source': 'loop', 'step': 2, 'parents': {}}, created_at='2025-08-01T05:18:39.611639+00:00', parent_config={'configurable': {'thread_id': '1', 'checkpoint_ns': '', 'checkpoint_id': '1f06e968-3f09-6e8f-8001-74d87f5038e7'}}, tasks=(), interrupts=()),\n",
       " StateSnapshot(values={'topic': 'pizza', 'joke': 'Why did the pizza go to the doctor? Because it was feeling a little crusty!', 'explanation': 'This joke is a play on words, using the word \"crusty\" in a clever and humorous way. In the context of the joke, \"crusty\" is typically used to describe something that is dry or rough on the surface. However, in this case, the joke suggests that the pizza went to the doctor because it was feeling \"crusty,\" implying that the pizza\\'s crust was not feeling well. It turns a common phrase into a silly and unexpected punchline, creating a light-hearted and amusing moment for the listener.'}, next=(), config={'configurable': {'thread_id': '1', 'checkpoint_ns': '', 'checkpoint_id': '1f06e968-4d98-682f-8002-b44e00a7f4e9'}}, metadata={'source': 'loop', 'step': 2, 'parents': {}}, created_at='2025-08-01T05:15:20.148353+00:00', parent_config={'configurable': {'thread_id': '1', 'checkpoint_ns': '', 'checkpoint_id': '1f06e968-3f09-6e8f-8001-74d87f5038e7'}}, tasks=(), interrupts=()),\n",
       " StateSnapshot(values={'topic': 'pizza', 'joke': 'Why did the pizza go to the doctor? Because it was feeling a little crusty!'}, next=('generate_explanation',), config={'configurable': {'thread_id': '1', 'checkpoint_ns': '', 'checkpoint_id': '1f06e968-3f09-6e8f-8001-74d87f5038e7'}}, metadata={'source': 'loop', 'step': 1, 'parents': {}}, created_at='2025-08-01T05:15:18.621933+00:00', parent_config={'configurable': {'thread_id': '1', 'checkpoint_ns': '', 'checkpoint_id': '1f06e968-2bac-6131-8000-d930d4f33311'}}, tasks=(PregelTask(id='5150a71e-5aa6-ade2-bfb6-37027de8102d', name='generate_explanation', path=('__pregel_pull', 'generate_explanation'), error=None, interrupts=(), state=None, result={'explanation': 'This joke is a play on words, using the word \"crusty\" in a clever and humorous way. In the context of the joke, \"crusty\" is typically used to describe something that is dry or rough on the surface. However, in this case, the joke suggests that the pizza went to the doctor because it was feeling \"crusty,\" implying that the pizza\\'s crust was not feeling well. It turns a common phrase into a silly and unexpected punchline, creating a light-hearted and amusing moment for the listener.'}),), interrupts=()),\n",
       " StateSnapshot(values={'topic': 'pizza'}, next=('generate_joke',), config={'configurable': {'thread_id': '1', 'checkpoint_ns': '', 'checkpoint_id': '1f06e968-2bac-6131-8000-d930d4f33311'}}, metadata={'source': 'loop', 'step': 0, 'parents': {}}, created_at='2025-08-01T05:15:16.591204+00:00', parent_config={'configurable': {'thread_id': '1', 'checkpoint_ns': '', 'checkpoint_id': '1f06e968-2ba4-6423-bfff-b937ef947e87'}}, tasks=(PregelTask(id='e1f6ea7a-de85-6805-00a5-a8d23014aab4', name='generate_joke', path=('__pregel_pull', 'generate_joke'), error=None, interrupts=(), state=None, result={'joke': 'Why did the pizza go to the doctor? Because it was feeling a little crusty!'}),), interrupts=()),\n",
       " StateSnapshot(values={}, next=('__start__',), config={'configurable': {'thread_id': '1', 'checkpoint_ns': '', 'checkpoint_id': '1f06e968-2ba4-6423-bfff-b937ef947e87'}}, metadata={'source': 'input', 'step': -1, 'parents': {}}, created_at='2025-08-01T05:15:16.588018+00:00', parent_config=None, tasks=(PregelTask(id='1d0e481f-937f-e0ec-c53b-434739017ee5', name='__start__', path=('__pregel_pull', '__start__'), error=None, interrupts=(), state=None, result={'topic': 'pizza'}),), interrupts=())]"
      ]
     },
     "execution_count": 17,
     "metadata": {},
     "output_type": "execute_result"
    }
   ],
   "source": [
    "list(workflow.get_state_history(config1))"
   ]
  },
  {
   "cell_type": "markdown",
   "id": "f4ff9c2f",
   "metadata": {},
   "source": [
    "# Updating State"
   ]
  },
  {
   "cell_type": "code",
   "execution_count": 19,
   "id": "9f61da46",
   "metadata": {},
   "outputs": [
    {
     "data": {
      "text/plain": [
       "{'configurable': {'thread_id': '1',\n",
       "  'checkpoint_ns': '',\n",
       "  'checkpoint_id': '1f06e979-037c-6923-8003-de95a5d0fc86'}}"
      ]
     },
     "execution_count": 19,
     "metadata": {},
     "output_type": "execute_result"
    }
   ],
   "source": [
    "workflow.update_state({\"configurable\": {\"thread_id\": \"1\", \"checkpoint_id\": \"1f06e968-4d98-682f-8002-b44e00a7f4e9\", \"checkpoint_ns\": \"\"}}, {'topic':'samosa'})\n"
   ]
  },
  {
   "cell_type": "code",
   "execution_count": 20,
   "id": "8c67c8ab",
   "metadata": {},
   "outputs": [
    {
     "data": {
      "text/plain": [
       "[StateSnapshot(values={'topic': 'samosa', 'joke': 'Why did the pizza go to the doctor? Because it was feeling a little crusty!', 'explanation': 'This joke is a play on words, using the word \"crusty\" in a clever and humorous way. In the context of the joke, \"crusty\" is typically used to describe something that is dry or rough on the surface. However, in this case, the joke suggests that the pizza went to the doctor because it was feeling \"crusty,\" implying that the pizza\\'s crust was not feeling well. It turns a common phrase into a silly and unexpected punchline, creating a light-hearted and amusing moment for the listener.'}, next=(), config={'configurable': {'thread_id': '1', 'checkpoint_ns': '', 'checkpoint_id': '1f06e979-037c-6923-8003-de95a5d0fc86'}}, metadata={'source': 'update', 'step': 3, 'parents': {}}, created_at='2025-08-01T05:22:48.717721+00:00', parent_config={'configurable': {'thread_id': '1', 'checkpoint_ns': '', 'checkpoint_id': '1f06e968-4d98-682f-8002-b44e00a7f4e9'}}, tasks=(), interrupts=()),\n",
       " StateSnapshot(values={'topic': 'samosa', 'joke': 'Why did the pizza go to the doctor? Because it was feeling a little crusty!'}, next=('generate_explanation',), config={'configurable': {'thread_id': '1', 'checkpoint_ns': '', 'checkpoint_id': '1f06e977-c567-6cd0-8002-f26c05008a32'}}, metadata={'source': 'update', 'step': 2, 'parents': {}}, created_at='2025-08-01T05:22:15.364493+00:00', parent_config={'configurable': {'thread_id': '1', 'checkpoint_ns': '', 'checkpoint_id': '1f06e968-3f09-6e8f-8001-74d87f5038e7'}}, tasks=(PregelTask(id='cc1ce46f-b4cc-bc48-0c4d-9b526f4ae003', name='generate_explanation', path=('__pregel_pull', 'generate_explanation'), error=None, interrupts=(), state=None, result=None),), interrupts=()),\n",
       " StateSnapshot(values={'topic': 'pizza', 'joke': 'Why did the pizza go to the doctor? Because it was feeling a little crusty!', 'explanation': 'This joke plays on the double meaning of the word \"crusty.\" In the context of pizza, \"crusty\" can refer to the texture of the pizza\\'s crust. However, in a healthcare context, \"crusty\" can also refer to someone feeling unwell or under the weather. In this joke, the pizza goes to the doctor because it is feeling unwell, but it also puns on the fact that pizzas have crusts.'}, next=(), config={'configurable': {'thread_id': '1', 'checkpoint_ns': '', 'checkpoint_id': '1f06e96f-bbd3-66f3-8002-d172194355c8'}}, metadata={'source': 'loop', 'step': 2, 'parents': {}}, created_at='2025-08-01T05:18:39.611639+00:00', parent_config={'configurable': {'thread_id': '1', 'checkpoint_ns': '', 'checkpoint_id': '1f06e968-3f09-6e8f-8001-74d87f5038e7'}}, tasks=(), interrupts=()),\n",
       " StateSnapshot(values={'topic': 'pizza', 'joke': 'Why did the pizza go to the doctor? Because it was feeling a little crusty!', 'explanation': 'This joke is a play on words, using the word \"crusty\" in a clever and humorous way. In the context of the joke, \"crusty\" is typically used to describe something that is dry or rough on the surface. However, in this case, the joke suggests that the pizza went to the doctor because it was feeling \"crusty,\" implying that the pizza\\'s crust was not feeling well. It turns a common phrase into a silly and unexpected punchline, creating a light-hearted and amusing moment for the listener.'}, next=(), config={'configurable': {'thread_id': '1', 'checkpoint_ns': '', 'checkpoint_id': '1f06e968-4d98-682f-8002-b44e00a7f4e9'}}, metadata={'source': 'loop', 'step': 2, 'parents': {}}, created_at='2025-08-01T05:15:20.148353+00:00', parent_config={'configurable': {'thread_id': '1', 'checkpoint_ns': '', 'checkpoint_id': '1f06e968-3f09-6e8f-8001-74d87f5038e7'}}, tasks=(), interrupts=()),\n",
       " StateSnapshot(values={'topic': 'pizza', 'joke': 'Why did the pizza go to the doctor? Because it was feeling a little crusty!'}, next=('generate_explanation',), config={'configurable': {'thread_id': '1', 'checkpoint_ns': '', 'checkpoint_id': '1f06e968-3f09-6e8f-8001-74d87f5038e7'}}, metadata={'source': 'loop', 'step': 1, 'parents': {}}, created_at='2025-08-01T05:15:18.621933+00:00', parent_config={'configurable': {'thread_id': '1', 'checkpoint_ns': '', 'checkpoint_id': '1f06e968-2bac-6131-8000-d930d4f33311'}}, tasks=(PregelTask(id='5150a71e-5aa6-ade2-bfb6-37027de8102d', name='generate_explanation', path=('__pregel_pull', 'generate_explanation'), error=None, interrupts=(), state=None, result={'explanation': 'This joke is a play on words, using the word \"crusty\" in a clever and humorous way. In the context of the joke, \"crusty\" is typically used to describe something that is dry or rough on the surface. However, in this case, the joke suggests that the pizza went to the doctor because it was feeling \"crusty,\" implying that the pizza\\'s crust was not feeling well. It turns a common phrase into a silly and unexpected punchline, creating a light-hearted and amusing moment for the listener.'}),), interrupts=()),\n",
       " StateSnapshot(values={'topic': 'pizza'}, next=('generate_joke',), config={'configurable': {'thread_id': '1', 'checkpoint_ns': '', 'checkpoint_id': '1f06e968-2bac-6131-8000-d930d4f33311'}}, metadata={'source': 'loop', 'step': 0, 'parents': {}}, created_at='2025-08-01T05:15:16.591204+00:00', parent_config={'configurable': {'thread_id': '1', 'checkpoint_ns': '', 'checkpoint_id': '1f06e968-2ba4-6423-bfff-b937ef947e87'}}, tasks=(PregelTask(id='e1f6ea7a-de85-6805-00a5-a8d23014aab4', name='generate_joke', path=('__pregel_pull', 'generate_joke'), error=None, interrupts=(), state=None, result={'joke': 'Why did the pizza go to the doctor? Because it was feeling a little crusty!'}),), interrupts=()),\n",
       " StateSnapshot(values={}, next=('__start__',), config={'configurable': {'thread_id': '1', 'checkpoint_ns': '', 'checkpoint_id': '1f06e968-2ba4-6423-bfff-b937ef947e87'}}, metadata={'source': 'input', 'step': -1, 'parents': {}}, created_at='2025-08-01T05:15:16.588018+00:00', parent_config=None, tasks=(PregelTask(id='1d0e481f-937f-e0ec-c53b-434739017ee5', name='__start__', path=('__pregel_pull', '__start__'), error=None, interrupts=(), state=None, result={'topic': 'pizza'}),), interrupts=())]"
      ]
     },
     "execution_count": 20,
     "metadata": {},
     "output_type": "execute_result"
    }
   ],
   "source": [
    "list(workflow.get_state_history(config1))\n"
   ]
  },
  {
   "cell_type": "code",
   "execution_count": 22,
   "id": "a9d7a651",
   "metadata": {},
   "outputs": [
    {
     "data": {
      "text/plain": [
       "{'topic': 'pizza',\n",
       " 'joke': 'Why did the pizza go to the doctor? Because it was feeling a little crusty!',\n",
       " 'explanation': 'This joke is a play on words, using the word \"crusty\" in a clever and humorous way. In the context of the joke, \"crusty\" is typically used to describe something that is dry or rough on the surface. However, in this case, the joke suggests that the pizza went to the doctor because it was feeling \"crusty,\" implying that the pizza\\'s crust was not feeling well. It turns a common phrase into a silly and unexpected punchline, creating a light-hearted and amusing moment for the listener.'}"
      ]
     },
     "execution_count": 22,
     "metadata": {},
     "output_type": "execute_result"
    }
   ],
   "source": [
    "workflow.invoke(None, {\"configurable\": {\"thread_id\": \"1\", \"checkpoint_id\": \"1f06e968-4d98-682f-8002-b44e00a7f4e9\"}})\n"
   ]
  },
  {
   "cell_type": "code",
   "execution_count": 23,
   "id": "151032bf",
   "metadata": {},
   "outputs": [
    {
     "data": {
      "text/plain": [
       "[StateSnapshot(values={'topic': 'samosa', 'joke': 'Why did the pizza go to the doctor? Because it was feeling a little crusty!', 'explanation': 'This joke is a play on words, using the word \"crusty\" in a clever and humorous way. In the context of the joke, \"crusty\" is typically used to describe something that is dry or rough on the surface. However, in this case, the joke suggests that the pizza went to the doctor because it was feeling \"crusty,\" implying that the pizza\\'s crust was not feeling well. It turns a common phrase into a silly and unexpected punchline, creating a light-hearted and amusing moment for the listener.'}, next=(), config={'configurable': {'thread_id': '1', 'checkpoint_ns': '', 'checkpoint_id': '1f06e979-037c-6923-8003-de95a5d0fc86'}}, metadata={'source': 'update', 'step': 3, 'parents': {}}, created_at='2025-08-01T05:22:48.717721+00:00', parent_config={'configurable': {'thread_id': '1', 'checkpoint_ns': '', 'checkpoint_id': '1f06e968-4d98-682f-8002-b44e00a7f4e9'}}, tasks=(), interrupts=()),\n",
       " StateSnapshot(values={'topic': 'samosa', 'joke': 'Why did the pizza go to the doctor? Because it was feeling a little crusty!'}, next=('generate_explanation',), config={'configurable': {'thread_id': '1', 'checkpoint_ns': '', 'checkpoint_id': '1f06e977-c567-6cd0-8002-f26c05008a32'}}, metadata={'source': 'update', 'step': 2, 'parents': {}}, created_at='2025-08-01T05:22:15.364493+00:00', parent_config={'configurable': {'thread_id': '1', 'checkpoint_ns': '', 'checkpoint_id': '1f06e968-3f09-6e8f-8001-74d87f5038e7'}}, tasks=(PregelTask(id='cc1ce46f-b4cc-bc48-0c4d-9b526f4ae003', name='generate_explanation', path=('__pregel_pull', 'generate_explanation'), error=None, interrupts=(), state=None, result=None),), interrupts=()),\n",
       " StateSnapshot(values={'topic': 'pizza', 'joke': 'Why did the pizza go to the doctor? Because it was feeling a little crusty!', 'explanation': 'This joke plays on the double meaning of the word \"crusty.\" In the context of pizza, \"crusty\" can refer to the texture of the pizza\\'s crust. However, in a healthcare context, \"crusty\" can also refer to someone feeling unwell or under the weather. In this joke, the pizza goes to the doctor because it is feeling unwell, but it also puns on the fact that pizzas have crusts.'}, next=(), config={'configurable': {'thread_id': '1', 'checkpoint_ns': '', 'checkpoint_id': '1f06e96f-bbd3-66f3-8002-d172194355c8'}}, metadata={'source': 'loop', 'step': 2, 'parents': {}}, created_at='2025-08-01T05:18:39.611639+00:00', parent_config={'configurable': {'thread_id': '1', 'checkpoint_ns': '', 'checkpoint_id': '1f06e968-3f09-6e8f-8001-74d87f5038e7'}}, tasks=(), interrupts=()),\n",
       " StateSnapshot(values={'topic': 'pizza', 'joke': 'Why did the pizza go to the doctor? Because it was feeling a little crusty!', 'explanation': 'This joke is a play on words, using the word \"crusty\" in a clever and humorous way. In the context of the joke, \"crusty\" is typically used to describe something that is dry or rough on the surface. However, in this case, the joke suggests that the pizza went to the doctor because it was feeling \"crusty,\" implying that the pizza\\'s crust was not feeling well. It turns a common phrase into a silly and unexpected punchline, creating a light-hearted and amusing moment for the listener.'}, next=(), config={'configurable': {'thread_id': '1', 'checkpoint_ns': '', 'checkpoint_id': '1f06e968-4d98-682f-8002-b44e00a7f4e9'}}, metadata={'source': 'loop', 'step': 2, 'parents': {}}, created_at='2025-08-01T05:15:20.148353+00:00', parent_config={'configurable': {'thread_id': '1', 'checkpoint_ns': '', 'checkpoint_id': '1f06e968-3f09-6e8f-8001-74d87f5038e7'}}, tasks=(), interrupts=()),\n",
       " StateSnapshot(values={'topic': 'pizza', 'joke': 'Why did the pizza go to the doctor? Because it was feeling a little crusty!'}, next=('generate_explanation',), config={'configurable': {'thread_id': '1', 'checkpoint_ns': '', 'checkpoint_id': '1f06e968-3f09-6e8f-8001-74d87f5038e7'}}, metadata={'source': 'loop', 'step': 1, 'parents': {}}, created_at='2025-08-01T05:15:18.621933+00:00', parent_config={'configurable': {'thread_id': '1', 'checkpoint_ns': '', 'checkpoint_id': '1f06e968-2bac-6131-8000-d930d4f33311'}}, tasks=(PregelTask(id='5150a71e-5aa6-ade2-bfb6-37027de8102d', name='generate_explanation', path=('__pregel_pull', 'generate_explanation'), error=None, interrupts=(), state=None, result={'explanation': 'This joke is a play on words, using the word \"crusty\" in a clever and humorous way. In the context of the joke, \"crusty\" is typically used to describe something that is dry or rough on the surface. However, in this case, the joke suggests that the pizza went to the doctor because it was feeling \"crusty,\" implying that the pizza\\'s crust was not feeling well. It turns a common phrase into a silly and unexpected punchline, creating a light-hearted and amusing moment for the listener.'}),), interrupts=()),\n",
       " StateSnapshot(values={'topic': 'pizza'}, next=('generate_joke',), config={'configurable': {'thread_id': '1', 'checkpoint_ns': '', 'checkpoint_id': '1f06e968-2bac-6131-8000-d930d4f33311'}}, metadata={'source': 'loop', 'step': 0, 'parents': {}}, created_at='2025-08-01T05:15:16.591204+00:00', parent_config={'configurable': {'thread_id': '1', 'checkpoint_ns': '', 'checkpoint_id': '1f06e968-2ba4-6423-bfff-b937ef947e87'}}, tasks=(PregelTask(id='e1f6ea7a-de85-6805-00a5-a8d23014aab4', name='generate_joke', path=('__pregel_pull', 'generate_joke'), error=None, interrupts=(), state=None, result={'joke': 'Why did the pizza go to the doctor? Because it was feeling a little crusty!'}),), interrupts=()),\n",
       " StateSnapshot(values={}, next=('__start__',), config={'configurable': {'thread_id': '1', 'checkpoint_ns': '', 'checkpoint_id': '1f06e968-2ba4-6423-bfff-b937ef947e87'}}, metadata={'source': 'input', 'step': -1, 'parents': {}}, created_at='2025-08-01T05:15:16.588018+00:00', parent_config=None, tasks=(PregelTask(id='1d0e481f-937f-e0ec-c53b-434739017ee5', name='__start__', path=('__pregel_pull', '__start__'), error=None, interrupts=(), state=None, result={'topic': 'pizza'}),), interrupts=())]"
      ]
     },
     "execution_count": 23,
     "metadata": {},
     "output_type": "execute_result"
    }
   ],
   "source": [
    "list(workflow.get_state_history(config1))"
   ]
  },
  {
   "cell_type": "markdown",
   "id": "19c46a1a",
   "metadata": {},
   "source": [
    "# Fault Tolerance"
   ]
  },
  {
   "cell_type": "code",
   "execution_count": 24,
   "id": "abf1fcf4",
   "metadata": {},
   "outputs": [],
   "source": [
    "from langgraph.graph import StateGraph, END\n",
    "from langgraph.checkpoint.memory import InMemorySaver\n",
    "from typing import TypedDict\n",
    "import time"
   ]
  },
  {
   "cell_type": "code",
   "execution_count": 25,
   "id": "900cd43a",
   "metadata": {},
   "outputs": [],
   "source": [
    "# 1. Define the state\n",
    "class CrashState(TypedDict):\n",
    "    input: str\n",
    "    step1: str\n",
    "    step2: str"
   ]
  },
  {
   "cell_type": "code",
   "execution_count": 26,
   "id": "99f582f0",
   "metadata": {},
   "outputs": [],
   "source": [
    "# 2. Define steps\n",
    "def step_1(state: CrashState) -> CrashState:\n",
    "    print(\"✅ Step 1 executed\")\n",
    "    return {\"step1\": \"done\", \"input\": state[\"input\"]}\n",
    "\n",
    "def step_2(state: CrashState) -> CrashState:\n",
    "    print(\"⏳ Step 2 hanging... now manually interrupt from the notebook toolbar (STOP button)\")\n",
    "    time.sleep(1000)  # Simulate long-running hang\n",
    "    return {\"step2\": \"done\"}\n",
    "\n",
    "def step_3(state: CrashState) -> CrashState:\n",
    "    print(\"✅ Step 3 executed\")\n",
    "    return {\"done\": True}"
   ]
  },
  {
   "cell_type": "code",
   "execution_count": 27,
   "id": "0a7f6d10",
   "metadata": {},
   "outputs": [],
   "source": [
    "# 3. Build the graph\n",
    "builder = StateGraph(CrashState)\n",
    "builder.add_node(\"step_1\", step_1)\n",
    "builder.add_node(\"step_2\", step_2)\n",
    "builder.add_node(\"step_3\", step_3)\n",
    "\n",
    "builder.set_entry_point(\"step_1\")\n",
    "builder.add_edge(\"step_1\", \"step_2\")\n",
    "builder.add_edge(\"step_2\", \"step_3\")\n",
    "builder.add_edge(\"step_3\", END)\n",
    "\n",
    "checkpointer = InMemorySaver()\n",
    "graph = builder.compile(checkpointer=checkpointer)"
   ]
  },
  {
   "cell_type": "code",
   "execution_count": null,
   "id": "2e72a1f1",
   "metadata": {},
   "outputs": [
    {
     "name": "stdout",
     "output_type": "stream",
     "text": [
      "▶️ Running graph: Please manually interrupt during Step 2...\n",
      "✅ Step 1 executed\n",
      "⏳ Step 2 hanging... now manually interrupt from the notebook toolbar (STOP button)\n"
     ]
    }
   ],
   "source": [
    "try:\n",
    "    print(\"▶️ Running graph: Please manually interrupt during Step 2...\")\n",
    "    graph.invoke({\"input\": \"start\"}, config={\"configurable\": {\"thread_id\": 'thread-1'}})\n",
    "except KeyboardInterrupt:\n",
    "    print(\"❌ Kernel manually interrupted (crash simulated).\")"
   ]
  },
  {
   "cell_type": "code",
   "execution_count": null,
   "id": "d94dc44c",
   "metadata": {},
   "outputs": [],
   "source": [
    "# 6. Re-run to show fault-tolerant resume\n",
    "print(\"\\n🔁 Re-running the graph to demonstrate fault tolerance...\")\n",
    "final_state = graph.invoke(None, config={\"configurable\": {\"thread_id\": 'thread-1'}})\n",
    "print(\"\\n✅ Final State:\", final_state)"
   ]
  },
  {
   "cell_type": "code",
   "execution_count": null,
   "id": "c0aa353b",
   "metadata": {},
   "outputs": [],
   "source": [
    "list(graph.get_state_history({\"configurable\": {\"thread_id\": 'thread-1'}}))"
   ]
  }
 ],
 "metadata": {
  "kernelspec": {
   "display_name": "virtual_env (3.13.5)",
   "language": "python",
   "name": "python3"
  },
  "language_info": {
   "codemirror_mode": {
    "name": "ipython",
    "version": 3
   },
   "file_extension": ".py",
   "mimetype": "text/x-python",
   "name": "python",
   "nbconvert_exporter": "python",
   "pygments_lexer": "ipython3",
   "version": "3.13.5"
  }
 },
 "nbformat": 4,
 "nbformat_minor": 5
}
